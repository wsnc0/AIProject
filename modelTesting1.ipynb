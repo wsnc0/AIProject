{
 "cells": [
  {
   "cell_type": "markdown",
   "metadata": {},
   "source": [
    "#### Functions\n",
    "---"
   ]
  },
  {
   "cell_type": "code",
   "execution_count": 2,
   "metadata": {},
   "outputs": [],
   "source": [
    "def printer(iterable:list|dict):\n",
    "    \"\"\"\n",
    "    Displays Lists and Dictionaries nicely\n",
    "    \"\"\"\n",
    "    if isinstance(iterable,list):\n",
    "        print(\"List\".center(16,\"-\"))\n",
    "        for item in iterable:\n",
    "            print(f\" - {item}\")\n",
    "        print()\n",
    "    elif isinstance(iterable,dict):\n",
    "        print(\"Dictionary\".center(16,\"-\"))\n",
    "        \n",
    "        for key in list(iterable.keys()):\n",
    "            print(f\" {key} :\",iterable[key])\n",
    "        print()\n",
    "    else:\n",
    "        print(iterable)\n"
   ]
  },
  {
   "cell_type": "code",
   "execution_count": 3,
   "metadata": {},
   "outputs": [],
   "source": [
    "def giveMeImageSize(modelVersion = \"B4\") -> tuple:\n",
    "    \"\"\"\n",
    "    Returns the resolution for the respective EfficientNet model verisons:\n",
    "\n",
    "    \"B0\", \"B1\", \"B2\", \"B3\", \"B4\", \"B\"5, \"B6\", \"B7\"\n",
    "\n",
    "    \"\"\"\n",
    "    if modelVersion == \"B0\":\n",
    "        return (224,224)\n",
    "    elif modelVersion == \"B1\":\n",
    "        return (240,240)\n",
    "    elif modelVersion == \"B2\":\n",
    "        return (260,260)\n",
    "    elif modelVersion == \"B3\":\n",
    "        return (300,300)\n",
    "    elif modelVersion == \"B4\":\n",
    "        return (380,380)\n",
    "    elif modelVersion == \"B5\":\n",
    "        return (456,456)\n",
    "    elif modelVersion == \"B6\":\n",
    "        return (528,528)\n",
    "    elif modelVersion == \"B7\":\n",
    "        return (600,600)\n"
   ]
  },
  {
   "cell_type": "code",
   "execution_count": 4,
   "metadata": {},
   "outputs": [],
   "source": [
    "from torchvision import transforms\n",
    "#? function for image transformation\n",
    "def pad_to_Square(image):\n",
    "    width, height = image.size\n",
    "    max_side = max(width,height)\n",
    "    left_pad = (max_side-width)//2\n",
    "    right_pad = (max_side-width-left_pad)\n",
    "    top_pad = (max_side-height)//2\n",
    "    bot_pad = (max_side-height - top_pad)\n",
    "\n",
    "    padded_image = transforms.functional.pad(image, (left_pad, top_pad, right_pad, bot_pad), padding_mode='constant', fill=0)\n",
    "    return padded_image\n"
   ]
  },
  {
   "cell_type": "code",
   "execution_count": 8,
   "metadata": {},
   "outputs": [],
   "source": [
    "import os\n",
    "from sklearn.model_selection import train_test_split\n",
    "from PIL import Image\n",
    "# Function to create the necessary directories\n",
    "def create_dirs(base_dir, classes):\n",
    "    os.makedirs(base_dir, exist_ok=True)\n",
    "    for subset in ['train', 'valid', 'test']:\n",
    "        subset_path = os.path.join(base_dir, subset)\n",
    "        os.makedirs(subset_path, exist_ok=True)\n",
    "        for class_name in classes:\n",
    "            os.makedirs(os.path.join(subset_path, class_name), exist_ok=True)\n",
    "\n",
    "# Function to split and save images into train and test directories\n",
    "def split_and_process_images(raw_data_dir:str, processed_data_dir:str, randomState=42):\n",
    "    # Get all class names (subfolder names)\n",
    "    classes = os.listdir(raw_data_dir)\n",
    "    print(\"Subfolders:\",classes)\n",
    "    create_dirs(processed_data_dir, classes)\n",
    "    \n",
    "    # Iterate through each class folder\n",
    "    for class_name in classes:\n",
    "        class_folder = os.path.join(raw_data_dir, class_name)\n",
    "        if os.path.isdir(class_folder):\n",
    "            # Get all image filenames\n",
    "            image_filenames = os.listdir(class_folder)\n",
    "            print(f\"{class_name} : {len(image_filenames)} files.\")\n",
    "            # Split into train and test sets\n",
    "            train_files, testval_files = train_test_split(image_filenames, test_size=0.2, random_state=randomState)\n",
    "            print(f\" Train: {len(train_files)}, Test&Val: {len(testval_files)}\")\n",
    "            # Process and save training images\n",
    "            for filename in train_files:\n",
    "                image_path = os.path.join(class_folder, filename)\n",
    "                img = Image.open(image_path)\n",
    "                # Save the training image\n",
    "                train_save_path = os.path.join(processed_data_dir, 'train', class_name, filename)\n",
    "                img.save(train_save_path)\n",
    "\n",
    "            # Split into validation and test sets\n",
    "            val_files, test_files = train_test_split(testval_files, test_size=0.5, random_state=randomState)\n",
    "\n",
    "            # Process and save validation images\n",
    "            for filename in val_files:\n",
    "                image_path = os.path.join(class_folder, filename)\n",
    "                img = Image.open(image_path)\n",
    "                # Save the validation image\n",
    "                val_save_path = os.path.join(processed_data_dir, 'valid', class_name, filename)\n",
    "                img.save(val_save_path)\n",
    "\n",
    "            # Process and save test images\n",
    "            for filename in test_files:\n",
    "                image_path = os.path.join(class_folder, filename)\n",
    "                img = Image.open(image_path)\n",
    "                # Save the testing image\n",
    "                test_save_path = os.path.join(processed_data_dir, 'test', class_name, filename)\n",
    "                img.save(test_save_path)\n",
    "\n",
    "        else:\n",
    "            print(f\"Error on {class_name}\")\n"
   ]
  },
  {
   "cell_type": "code",
   "execution_count": null,
   "metadata": {},
   "outputs": [],
   "source": [
    "\n",
    "def freeze_everything_except_classifier(model):\n",
    "    for params in model.features.parameters():\n",
    "        params.requires_grad=False\n",
    "    for params in model.classifier.parameters():\n",
    "        params.requires_grad=True\n",
    "    print(\"phase 1 - only training classifier\")\n",
    "    \n",
    "def unfreeze_last_block(model):\n",
    "    for name,params in model.named_parameters():\n",
    "        #if \"features.6\" in name or \"features.7\" in name or \"classifier\" in name:\n",
    "        if \"features.8\" in name or \"classifier\" in name: \n",
    "            params.requires_grad = True\n",
    "        else:\n",
    "            params.requires_grad = False\n",
    "    print(\"phase 2 - training last block and classifier\")\n",
    "\n",
    "def unfreeze_last_two_blocks(model):\n",
    "    \n",
    "    for name, params in model.named_parameters():\n",
    "        #if \"features.4\" in name or \"features.5\" in name or \"features.6\" in name or \"features.7\" in name or \"classifier\" in name:\n",
    "        if \"features.6\" in name or \"features.7\" in name or \"classifier\" in name:\n",
    "            params.requires_grad = True\n",
    "        else:\n",
    "            params.requires_grad = False\n",
    "    print(\"Phase 3 - Training last 4 blocks and classifier\")\n",
    "\n",
    "def unfreeze_whole_model(model):\n",
    "    for params in model.parameters():\n",
    "        params.requires_grad = True \n",
    "    print(\"phase 4 - whole model training\")"
   ]
  },
  {
   "cell_type": "markdown",
   "metadata": {},
   "source": [
    "#### Data Splitting\n",
    "---"
   ]
  },
  {
   "cell_type": "code",
   "execution_count": 9,
   "metadata": {},
   "outputs": [
    {
     "name": "stdout",
     "output_type": "stream",
     "text": [
      "Subfolders: ['1. Eczema 1677', '10. Warts Molluscum and other Viral Infections - 2103', '2. Melanoma 15.75k', '3. Atopic Dermatitis - 1.25k', '4. Basal Cell Carcinoma (BCC) 3323', '5. Melanocytic Nevi (NV) - 7970', '6. Benign Keratosis-like Lesions (BKL) 2624', '7. Psoriasis pictures Lichen Planus and related diseases - 2k', '8. Seborrheic Keratoses and other Benign Tumors - 1.8k', '9. Tinea Ringworm Candidiasis and other Fungal Infections - 1.7k']\n",
      "1. Eczema 1677 : 1677 files.\n",
      " Train: 1341, Test&Val: 336\n",
      "10. Warts Molluscum and other Viral Infections - 2103 : 2103 files.\n",
      " Train: 1682, Test&Val: 421\n",
      "2. Melanoma 15.75k : 3140 files.\n",
      " Train: 2512, Test&Val: 628\n",
      "3. Atopic Dermatitis - 1.25k : 1257 files.\n",
      " Train: 1005, Test&Val: 252\n",
      "4. Basal Cell Carcinoma (BCC) 3323 : 3323 files.\n",
      " Train: 2658, Test&Val: 665\n",
      "5. Melanocytic Nevi (NV) - 7970 : 7970 files.\n",
      " Train: 6376, Test&Val: 1594\n",
      "6. Benign Keratosis-like Lesions (BKL) 2624 : 2079 files.\n",
      " Train: 1663, Test&Val: 416\n",
      "7. Psoriasis pictures Lichen Planus and related diseases - 2k : 2055 files.\n",
      " Train: 1644, Test&Val: 411\n",
      "8. Seborrheic Keratoses and other Benign Tumors - 1.8k : 1847 files.\n",
      " Train: 1477, Test&Val: 370\n",
      "9. Tinea Ringworm Candidiasis and other Fungal Infections - 1.7k : 1702 files.\n",
      " Train: 1361, Test&Val: 341\n"
     ]
    }
   ],
   "source": [
    "# Split and process the images\n",
    "split_and_process_images(raw_data_dir='data',\n",
    "                         processed_data_dir='processedData',\n",
    "                        )\n"
   ]
  },
  {
   "cell_type": "markdown",
   "metadata": {},
   "source": [
    "#### Data Loaders and Processing\n",
    "---"
   ]
  },
  {
   "cell_type": "code",
   "execution_count": 10,
   "metadata": {},
   "outputs": [
    {
     "name": "stdout",
     "output_type": "stream",
     "text": [
      "(380, 380)\n"
     ]
    }
   ],
   "source": [
    "imgSize = giveMeImageSize()\n",
    "print(imgSize)"
   ]
  },
  {
   "cell_type": "markdown",
   "metadata": {},
   "source": [
    "Cleaning folder names into class names"
   ]
  },
  {
   "cell_type": "code",
   "execution_count": 11,
   "metadata": {},
   "outputs": [
    {
     "name": "stdout",
     "output_type": "stream",
     "text": [
      "------List------\n",
      " - Eczema\n",
      " - Warts Molluscum and other Viral Infections\n",
      " - Melanoma\n",
      " - Atopic Dermatitis\n",
      " - Basal Cell Carcinoma (BCC)\n",
      " - Melanocytic Nevi (NV)\n",
      " - Benign Keratosis-like Lesions (BKL)\n",
      " - Psoriasis pictures Lichen Planus and related diseases\n",
      " - Seborrheic Keratoses and other Benign Tumors\n",
      " - Tinea Ringworm Candidiasis and other Fungal Infections\n",
      "\n",
      "---Dictionary---\n",
      " 0 : Eczema\n",
      " 1 : Warts Molluscum and other Viral Infections\n",
      " 2 : Melanoma\n",
      " 3 : Atopic Dermatitis\n",
      " 4 : Basal Cell Carcinoma (BCC)\n",
      " 5 : Melanocytic Nevi (NV)\n",
      " 6 : Benign Keratosis-like Lesions (BKL)\n",
      " 7 : Psoriasis pictures Lichen Planus and related diseases\n",
      " 8 : Seborrheic Keratoses and other Benign Tumors\n",
      " 9 : Tinea Ringworm Candidiasis and other Fungal Infections\n",
      "\n",
      "10\n"
     ]
    }
   ],
   "source": [
    " #? raw dataset File path\n",
    "raw_path = './data'\n",
    "\n",
    "folderNames = [folder for folder in os.listdir(raw_path) if os.path.isdir(os.path.join(raw_path, folder))]\n",
    "\n",
    "cleanedNames = []\n",
    "for idx in range(len(folderNames)):\n",
    "    words = folderNames[idx].split()\n",
    "    words.pop(0)\n",
    "    words.pop()\n",
    "    if \"-\" in words:\n",
    "        words.pop(words.index(\"-\"))\n",
    "\n",
    "    out = \" \".join(words)\n",
    "    cleanedNames.append(out)\n",
    "\n",
    "printer(cleanedNames)\n",
    "\n",
    "classMapping = {}\n",
    "for index, value in enumerate(cleanedNames):\n",
    "    classMapping[index] = value\n",
    "\n",
    "printer(classMapping)\n",
    "print(len(classMapping))"
   ]
  },
  {
   "cell_type": "markdown",
   "metadata": {},
   "source": [
    "Getting Mean and STD for image normalization"
   ]
  },
  {
   "cell_type": "code",
   "execution_count": 12,
   "metadata": {},
   "outputs": [
    {
     "name": "stdout",
     "output_type": "stream",
     "text": [
      "dataset: Dataset ImageFolder\n",
      "    Number of datapoints: 27153\n",
      "    Root location: ./data\n",
      "    StandardTransform\n",
      "Transform: Compose(\n",
      "               Lambda()\n",
      "               Resize(size=224, interpolation=bilinear, max_size=None, antialias=True)\n",
      "               ToTensor()\n",
      "           )\n",
      "Total Batches: 1698\n",
      "Batch [1698/1698]                                           \n",
      "Mean: tensor([0.5246, 0.3975, 0.3844])\n",
      "Std: tensor([0.2744, 0.2188, 0.2165])\n"
     ]
    }
   ],
   "source": [
    "import torch\n",
    "from torchvision import datasets, transforms\n",
    "from torch.utils.data import DataLoader\n",
    "\n",
    "#? Getting the mean and std of the raw dataset\n",
    "initial_Transform = transforms.Compose([\n",
    "    transforms.Lambda(pad_to_Square),\n",
    "    transforms.Resize(224),  # Resize images\n",
    "    transforms.ToTensor(),  # Convert images to tensor\n",
    "])\n",
    "\n",
    "#? raw dataset File path\n",
    "raw_path = './data'\n",
    "\n",
    "# Load raw dataset\n",
    "dataset = datasets.ImageFolder(root=raw_path, transform=initial_Transform)\n",
    "loader = DataLoader(dataset, batch_size=16, shuffle=False)       #? num_workers indicate the number of parallel processes\n",
    "\n",
    "# Initialize sums\n",
    "mean = 0.\n",
    "std = 0.\n",
    "total_images = 0\n",
    "\n",
    "print(\"dataset:\", dataset)\n",
    "batch = 0\n",
    "print(f\"Total Batches: {len(loader)}\")\n",
    "for images, _ in loader:\n",
    "    batch_samples = images.size(0)  # batch size\n",
    "    images = images.view(batch_samples, images.size(1), -1)  # flatten H and W\n",
    "    mean += images.mean(2).sum(0)\n",
    "    std += images.std(2).sum(0)\n",
    "    total_images += batch_samples\n",
    "    batch += 1\n",
    "    print(f\"Batch [{batch}/{len(loader)}]\".ljust(60), end=\"\\r\")\n",
    "print()\n",
    "\n",
    "mean /= total_images\n",
    "std /= total_images\n",
    "\n",
    "print(f\"Mean: {mean}\")\n",
    "print(f\"Std: {std}\")"
   ]
  },
  {
   "cell_type": "markdown",
   "metadata": {},
   "source": [
    "Load Datasets:\n",
    "- Training DataSet with augmentation.\n",
    "- Testing DataSet without augmentation.\n"
   ]
  },
  {
   "cell_type": "code",
   "execution_count": 13,
   "metadata": {},
   "outputs": [],
   "source": [
    "# mean = torch.tensor([0.5246, 0.3976, 0.3844])\n",
    "# std = torch.tensor([0.2746, 0.2190, 0.2167])\n",
    "\n",
    "transform_train = transforms.Compose([\n",
    "    transforms.Lambda(pad_to_Square),\n",
    "    transforms.Resize(imgSize),  # Resize images\n",
    "    transforms.ToTensor(),  # Convert images to tensor\n",
    "    transforms.Normalize(mean=mean, std=std),  # Normalize images\n",
    "])\n",
    "\n",
    "transform_test = transforms.Compose([\n",
    "    transforms.Lambda(pad_to_Square),\n",
    "    transforms.Resize(imgSize),  # Resize images\n",
    "    transforms.ToTensor(),  # Convert images to tensor\n",
    "])\n"
   ]
  },
  {
   "cell_type": "code",
   "execution_count": 14,
   "metadata": {},
   "outputs": [
    {
     "name": "stdout",
     "output_type": "stream",
     "text": [
      "Dataset ImageFolder\n",
      "    Number of datapoints: 21719\n",
      "    Root location: processedData/train\n",
      "    StandardTransform\n",
      "Transform: Compose(\n",
      "               Lambda()\n",
      "               Resize(size=(380, 380), interpolation=bilinear, max_size=None, antialias=True)\n",
      "               ToTensor()\n",
      "               Normalize(mean=tensor([0.5246, 0.3975, 0.3844]), std=tensor([0.2744, 0.2188, 0.2165]))\n",
      "           ) Batches: 679 \n",
      "-------------------------------------------------\n",
      "Dataset ImageFolder\n",
      "    Number of datapoints: 2715\n",
      "    Root location: processedData/valid\n",
      "    StandardTransform\n",
      "Transform: Compose(\n",
      "               Lambda()\n",
      "               Resize(size=(380, 380), interpolation=bilinear, max_size=None, antialias=True)\n",
      "               ToTensor()\n",
      "           ) Batches: 85 \n",
      "-------------------------------------------------\n"
     ]
    }
   ],
   "source": [
    "\n",
    "#? training dataset directory\n",
    "train_path = \"processedData/train\"\n",
    "#? validation dataset directory\n",
    "valid_path = \"processedData/valid\"\n",
    "#? testing dataset directory\n",
    "# test_path = \"processedData/test\"\n",
    "\n",
    "batchSize = 32\n",
    "\n",
    "#? Load TRAIN dataset from directory\n",
    "train_dataset = datasets.ImageFolder(root=train_path, transform=transform_train)\n",
    "#? Create a DataLoader\n",
    "train_dataloader = DataLoader(train_dataset, batch_size=batchSize, shuffle=True)\n",
    "print(train_dataset, f\"Batches: {len(train_dataloader)}\",\"\\n\".ljust(50,\"-\"))\n",
    "\n",
    "#? Load VALID dataset from directory\n",
    "valid_dataset = datasets.ImageFolder(root=valid_path, transform=transform_test)\n",
    "#? Create a DataLoader\n",
    "valid_dataloader = DataLoader(valid_dataset, batch_size=batchSize, shuffle=True)\n",
    "print(valid_dataset, f\"Batches: {len(valid_dataloader)}\",\"\\n\".ljust(50,\"-\"))\n",
    "\n",
    "# #? Load TEST dataset from directory\n",
    "# test_dataset = datasets.ImageFolder(root=test_path, transform=transform_test)\n",
    "# #? Create a DataLoader\n",
    "# test_dataloader = DataLoader(test_dataset, batch_size=batchSize, shuffle=True)\n",
    "# print(test_dataset, f\"Batches: {len(test_dataloader)}\",\"\\n\".ljust(50,\"-\"))"
   ]
  },
  {
   "cell_type": "markdown",
   "metadata": {},
   "source": [
    "#### Model Training\n",
    "---"
   ]
  },
  {
   "cell_type": "markdown",
   "metadata": {},
   "source": [
    "##### Model"
   ]
  },
  {
   "cell_type": "code",
   "execution_count": 25,
   "metadata": {},
   "outputs": [
    {
     "name": "stderr",
     "output_type": "stream",
     "text": [
      "c:\\Users\\ivanw\\AppData\\Local\\Programs\\Python\\Python311\\Lib\\site-packages\\torchvision\\models\\_utils.py:208: UserWarning: The parameter 'pretrained' is deprecated since 0.13 and may be removed in the future, please use 'weights' instead.\n",
      "  warnings.warn(\n",
      "c:\\Users\\ivanw\\AppData\\Local\\Programs\\Python\\Python311\\Lib\\site-packages\\torchvision\\models\\_utils.py:223: UserWarning: Arguments other than a weight enum or `None` for 'weights' are deprecated since 0.13 and may be removed in the future. The current behavior is equivalent to passing `weights=EfficientNet_B4_Weights.IMAGENET1K_V1`. You can also use `weights=EfficientNet_B4_Weights.DEFAULT` to get the most up-to-date weights.\n",
      "  warnings.warn(msg)\n"
     ]
    }
   ],
   "source": [
    "from torchvision import models\n",
    "import torch.nn as nn \n",
    "efficientnetmodel = models.efficientnet_b4(pretrained=True)\n",
    "no_features = efficientnetmodel.classifier[1].in_features  \n",
    "efficientnetmodel.classifier[1] = nn.Linear(no_features, 10) \n",
    "device = torch.device(\"cuda\" if torch.cuda.is_available() else \"cpu\")\n",
    "efficientnetmodel = efficientnetmodel.to(device)"
   ]
  },
  {
   "cell_type": "code",
   "execution_count": 26,
   "metadata": {},
   "outputs": [],
   "source": [
    "import torch.optim as optim\n",
    "# criterion = nn.BCEWithLogitsLoss()\n",
    "criterion = nn.CrossEntropyLoss()\n",
    "#optimiser = optim.Adam(densenetmodel.parameters(),lr=0.001)\n"
   ]
  },
  {
   "cell_type": "code",
   "execution_count": null,
   "metadata": {},
   "outputs": [
    {
     "name": "stdout",
     "output_type": "stream",
     "text": [
      "modelLogs/2025-03-27 12-12\n",
      "phase 1 - only training classifier\n",
      "      Phase 1: freeze_everything_except_classifier | Learning Rate: 0.001       \n",
      "Epoch: 1\n",
      "  Batch: 678 Accuracy: 72.05%\n",
      "phase 1 | epoch [1/15]  loss = 0.7560, train acc = 72.05%\n",
      "model saved to modelLogs/2025-03-27 12-12/efficientnet_phase0_epoch1.pth\n",
      "Epoch: 2\n",
      "  Batch: 678 Accuracy: 72.74%\n",
      "phase 1 | epoch [2/15]  loss = 0.7385, train acc = 72.74%\n",
      "model saved to modelLogs/2025-03-27 12-12/efficientnet_phase0_epoch2.pth\n",
      "Epoch: 3\n",
      "  Batch: 678 Accuracy: 73.05%\n",
      "phase 1 | epoch [3/15]  loss = 0.7275, train acc = 73.05%\n",
      "model saved to modelLogs/2025-03-27 12-12/efficientnet_phase0_epoch3.pth\n",
      "Epoch: 4\n",
      "  Batch: 678 Accuracy: 72.89%\n",
      "phase 1 | epoch [4/15]  loss = 0.7179, train acc = 72.89%\n",
      "model saved to modelLogs/2025-03-27 12-12/efficientnet_phase0_epoch4.pth\n",
      "Epoch: 5\n",
      "  Batch: 678 Accuracy: 73.46%\n",
      "phase 1 | epoch [5/15]  loss = 0.7099, train acc = 73.46%\n",
      "model saved to modelLogs/2025-03-27 12-12/efficientnet_phase0_epoch5.pth\n",
      "Epoch: 6\n",
      "  Batch: 678 Accuracy: 73.29%\n",
      "phase 1 | epoch [6/15]  loss = 0.7003, train acc = 73.29%\n",
      "model saved to modelLogs/2025-03-27 12-12/efficientnet_phase0_epoch6.pth\n",
      "Epoch: 7\n",
      "  Batch: 678 Accuracy: 73.74%\n",
      "phase 1 | epoch [7/15]  loss = 0.6931, train acc = 73.74%\n",
      "model saved to modelLogs/2025-03-27 12-12/efficientnet_phase0_epoch7.pth\n",
      "Epoch: 8\n",
      "  Batch: 678 Accuracy: 74.16%\n",
      "phase 1 | epoch [8/15]  loss = 0.6872, train acc = 74.16%\n",
      "model saved to modelLogs/2025-03-27 12-12/efficientnet_phase0_epoch8.pth\n",
      "Epoch: 9\n",
      "  Batch: 678 Accuracy: 73.83%\n",
      "phase 1 | epoch [9/15]  loss = 0.6887, train acc = 73.83%\n",
      "model saved to modelLogs/2025-03-27 12-12/efficientnet_phase0_epoch9.pth\n",
      "Epoch: 10\n",
      "  Batch: 678 Accuracy: 74.19%\n",
      "phase 1 | epoch [10/15]  loss = 0.6837, train acc = 74.19%\n",
      "model saved to modelLogs/2025-03-27 12-12/efficientnet_phase0_epoch10.pth\n",
      "Epoch: 11\n",
      "  Batch: 678 Accuracy: 74.17%\n",
      "phase 1 | epoch [11/15]  loss = 0.6785, train acc = 74.17%\n",
      "model saved to modelLogs/2025-03-27 12-12/efficientnet_phase0_epoch11.pth\n",
      "Epoch: 12\n",
      "  Batch: 678 Accuracy: 74.35%\n",
      "phase 1 | epoch [12/15]  loss = 0.6811, train acc = 74.35%\n",
      "model saved to modelLogs/2025-03-27 12-12/efficientnet_phase0_epoch12.pth\n",
      "Epoch: 13\n",
      "  Batch: 678 Accuracy: 73.86%\n",
      "phase 1 | epoch [13/15]  loss = 0.6820, train acc = 73.86%\n",
      "model saved to modelLogs/2025-03-27 12-12/efficientnet_phase0_epoch13.pth\n",
      "Epoch: 14\n",
      "  Batch: 678 Accuracy: 74.39%\n",
      "phase 1 | epoch [14/15]  loss = 0.6748, train acc = 74.39%\n",
      "model saved to modelLogs/2025-03-27 12-12/efficientnet_phase0_epoch14.pth\n",
      "Epoch: 15\n",
      "  Batch: 678 Accuracy: 74.32%\n",
      "phase 1 | epoch [15/15]  loss = 0.6791, train acc = 74.32%\n",
      "model saved to modelLogs/2025-03-27 12-12/efficientnet_phase0_epoch15.pth\n",
      "phase 1 val acc: 0.00%\n",
      "\n"
     ]
    }
   ],
   "source": [
    "# import pickle\n",
    "from datetime import datetime\n",
    "modelSaver_path = f\"modelLogs/{datetime.today().strftime('%Y-%m-%d %H-%M')}\"\n",
    "os.makedirs(modelSaver_path,exist_ok=True)\n",
    "print(modelSaver_path)\n",
    "\n",
    "# num_epochs = 15\n",
    "phases = [{\"epochs\": 5, \"unfreeze\": freeze_everything_except_classifier, \"lr\": 0.001},\n",
    "          {\"epochs\": 5, \"unfreeze\": unfreeze_last_block, \"lr\": 0.0001},\n",
    "          {\"epochs\": 5, \"unfreeze\": unfreeze_last_two_blocks, \"lr\": 0.0001},\n",
    "          {\"epochs\": 5, \"unfreeze\": unfreeze_last_four_blocks, \"lr\": 0.00001},\n",
    "          {\"epochs\": 5, \"unfreeze\": unfreeze_whole_model, \"lr\": 1e-6}]\n",
    "# phases = [{\"epochs\": 15, \"unfreeze\": freeze_everything_except_classifier, \"lr\": 0.001}]\n",
    "for phase_idx, phase in enumerate(phases):\n",
    "    phase[\"unfreeze\"](efficientnetmodel)\n",
    "    optimiser = optim.Adam(efficientnetmodel.parameters(), lr=phase[\"lr\"])\n",
    "    print(f\"Phase {phase_idx+1}: {phase['unfreeze'].__name__} | Learning Rate: {phase['lr']}\".center(80))\n",
    "\n",
    "    efficientnetmodel.train()\n",
    "    for epoch in range(phase[\"epochs\"]):\n",
    "        efficientnetmodel.train()\n",
    "        running_loss = 0.0\n",
    "        correct_train = 0\n",
    "        total_train = 0\n",
    "        print(f\"Epoch: {epoch+1}\")\n",
    "\n",
    "        for batch, (inputs, labels) in enumerate(train_dataloader):\n",
    "            inputs, labels = inputs.to(device), labels.to(device)\n",
    "            optimiser.zero_grad()\n",
    "            outputs = efficientnetmodel(inputs).squeeze()\n",
    "        \n",
    "            # print(outputs)\n",
    "            # print(labels)\n",
    "            loss = criterion(outputs, labels)\n",
    "            loss.backward()\n",
    "            optimiser.step()\n",
    "\n",
    "            running_loss += loss.item()\n",
    "            _, predicted = torch.max(outputs,1)\n",
    "            correct_train += (predicted == labels).sum().item()\n",
    "            total_train += labels.size(0)\n",
    "\n",
    "            print(f\"  Batch: {batch}\".ljust(12), f\"Accuracy: {((correct_train / total_train)*100):.2f}%\",end=\"\\r\")\n",
    "            # break\n",
    "        print()\n",
    "        \n",
    "        train_accuracy = (correct_train / total_train)*100\n",
    "        avg_loss = running_loss / len(train_dataloader)\n",
    "\n",
    "        print(f\"phase {phase_idx+1} | epoch [{epoch+1}/{phase['epochs']}] \",\n",
    "              f\"loss = {avg_loss:.4f}, train acc = {train_accuracy:.2f}%\")\n",
    "\n",
    "        checkpoint_filename = modelSaver_path+f\"/efficientnet_phase{phase_idx}_epoch{epoch+1}.pth\"\n",
    "        torch.save(efficientnetmodel.state_dict(), checkpoint_filename)\n",
    "        print(f\"model saved to {checkpoint_filename}\")\n",
    "\n",
    "        # checkpoint_filename2 = f\"/efficientnet_phase{phase_idx}_epoch{epoch+1}.pkl\"\n",
    "        # with open(modelSaver_path+checkpoint_filename2,'wb') as file:\n",
    "        #     pickle.dump(efficientnetmodel.state_dict(),file)\n",
    "                \n",
    "    efficientnetmodel.eval()\n",
    "    correct = 0\n",
    "    total = 0\n",
    "\n",
    "    with torch.no_grad():\n",
    "        for inputs, labels in valid_dataloader:\n",
    "            inputs, labels = inputs.to(device), labels.float().to(device)\n",
    "            outputs = efficientnetmodel(inputs).squeeze()\n",
    "            _, predicted = torch.max(outputs,1)\n",
    "            total += labels.size(0)\n",
    "            correct += (predicted == labels).sum().item()\n",
    "\n",
    "    val_accuracy = 100 * correct / total\n",
    "    print(f\"phase {phase_idx+1} val acc: {val_accuracy:.2f}%\\n\")"
   ]
  },
  {
   "cell_type": "code",
   "execution_count": 54,
   "metadata": {},
   "outputs": [
    {
     "name": "stdout",
     "output_type": "stream",
     "text": [
      "phase 1 val acc: 63.31%\n",
      "\n"
     ]
    }
   ],
   "source": [
    "efficientnetmodel.eval()\n",
    "correct = 0\n",
    "total = 0\n",
    "\n",
    "with torch.no_grad():\n",
    "    for inputs, labels in valid_dataloader:\n",
    "        inputs, labels = inputs.to(device), labels.float().to(device)\n",
    "        outputs = efficientnetmodel(inputs).squeeze()\n",
    "        _, predicted = torch.max(outputs,1)\n",
    "        total += labels.size(0)\n",
    "        correct += (predicted == labels).sum().item()\n",
    "\n",
    "val_accuracy = 100 * correct / total\n",
    "print(f\"phase {phase_idx+1} val acc: {val_accuracy:.2f}%\\n\")"
   ]
  },
  {
   "cell_type": "code",
   "execution_count": null,
   "metadata": {},
   "outputs": [],
   "source": []
  }
 ],
 "metadata": {
  "kernelspec": {
   "display_name": "Python 3",
   "language": "python",
   "name": "python3"
  },
  "language_info": {
   "codemirror_mode": {
    "name": "ipython",
    "version": 3
   },
   "file_extension": ".py",
   "mimetype": "text/x-python",
   "name": "python",
   "nbconvert_exporter": "python",
   "pygments_lexer": "ipython3",
   "version": "3.11.9"
  }
 },
 "nbformat": 4,
 "nbformat_minor": 2
}
